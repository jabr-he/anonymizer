{
 "cells": [
  {
   "cell_type": "code",
   "execution_count": 146,
   "id": "c5b9d263-97e1-4654-961f-35e05cd1b3f3",
   "metadata": {},
   "outputs": [
    {
     "name": "stdout",
     "output_type": "stream",
     "text": [
      "Anonymisierte Daten gespeichert unter /Users/janbraun/anonymizer/anon.csv\n",
      "Anonymisierte Personen: 3\n",
      "Anonymisierte Orte: 2\n",
      "Anonymisierte Organisationen: 1\n"
     ]
    }
   ],
   "source": [
    "import spacy\n",
    "from spacy.pipeline import EntityRuler\n",
    "from spacy.matcher import Matcher\n",
    "from spacy.tokens import Span\n",
    "from spacy.language import Language\n",
    "import csv\n",
    "# Pfad zur Datei mit den Freitext-Antworten\n",
    "path_original = '/Users/janbraun/anonymizer/testdata_original.csv'\n",
    "# Pfad zur Datei, die mit den anonymisierten Freitext-Antworten erstellt werden soll (Ist die Datei vorhanden, so wird sie überschrieben!)\n",
    "path_anon = '/Users/janbraun/anonymizer/anon.csv'\n",
    "nlp = spacy.load('de_core_news_lg')\n",
    "def anonymize(text, count_per, count_org, count_loc):\n",
    "    doc = nlp(text)\n",
    "    for ent in doc.ents:\n",
    "        if ent.label_ == 'PER':\n",
    "            text = text.replace(ent.text, \"[NAME]\")\n",
    "            count_per += 1\n",
    "        elif ent.label_ == 'ORG':\n",
    "            text = text.replace(ent.text, \"[ORGANISATION]\")\n",
    "            count_org += 1\n",
    "        elif ent.label_ == 'LOC':\n",
    "            text = text.replace(ent.text, \"[ORT]\")\n",
    "            count_loc += 1\n",
    "    return text, count_per, count_org, count_loc\n",
    "rows = []\n",
    "with open(path_original, mode='r', newline='', encoding='utf-8-sig') as file:\n",
    "    csv_reader = csv.reader(file)\n",
    "    for row in csv_reader:\n",
    "        rows.append(row)\n",
    "text_list = [row[0] for row in rows]\n",
    "count_per = 0\n",
    "count_org = 0\n",
    "count_loc = 0\n",
    "for i, text in enumerate(text_list):\n",
    "    #print(text)\n",
    "    anonymized_text, count_per, count_org, count_loc = anonymize(text, count_per, count_org, count_loc)\n",
    "    text_list[i] = anonymized_text\n",
    "    #print(anonymized_text)\n",
    "'''with open(path_anon, mode='w', newline='', encoding='utf-8-sig') as file:\n",
    "    writer = csv.writer(file)\n",
    "    for row, anonymized_text in zip(rows, text_list):\n",
    "        row[0] = anonymized_text\n",
    "        writer.writerow(row)'''\n",
    "print(f\"Anonymisierte Daten gespeichert unter {path_anon}\")\n",
    "print(f\"Anonymisierte Personen: {count_per}\")\n",
    "print(f\"Anonymisierte Orte: {count_loc}\")\n",
    "print(f\"Anonymisierte Organisationen: {count_org}\")"
   ]
  },
  {
   "cell_type": "code",
   "execution_count": null,
   "id": "275688f0-e537-4ff1-9e82-4ecc75214b03",
   "metadata": {},
   "outputs": [],
   "source": []
  },
  {
   "cell_type": "code",
   "execution_count": null,
   "id": "fdc9713d-2130-4fad-97da-5035dda965bb",
   "metadata": {},
   "outputs": [],
   "source": []
  }
 ],
 "metadata": {
  "kernelspec": {
   "display_name": "Python [conda env:base] *",
   "language": "python",
   "name": "conda-base-py"
  },
  "language_info": {
   "codemirror_mode": {
    "name": "ipython",
    "version": 3
   },
   "file_extension": ".py",
   "mimetype": "text/x-python",
   "name": "python",
   "nbconvert_exporter": "python",
   "pygments_lexer": "ipython3",
   "version": "3.12.2"
  }
 },
 "nbformat": 4,
 "nbformat_minor": 5
}
