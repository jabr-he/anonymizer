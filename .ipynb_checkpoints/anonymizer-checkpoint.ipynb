{
 "cells": [
  {
   "cell_type": "code",
   "execution_count": 10,
   "id": "c5b9d263-97e1-4654-961f-35e05cd1b3f3",
   "metadata": {},
   "outputs": [
    {
     "name": "stdout",
     "output_type": "stream",
     "text": [
      "['Herr Großmanns Unterricht in München an der Pflegeschule am Klinikum Nürnberg ist gut.']\n",
      "['Marlene Benkert ist die beste Lehrerin am Diakonischen Institut für soziale Berufe.']\n",
      "['Jan Braun ist doof. Sein Unterricht gefällt mir nicht']\n",
      "['Prof. Dr. Reuschenbach macht Lehre an der KSH München']\n",
      "Herr [NAME] Unterricht in [ORT] an der Pflegeschule am [ORT] ist gut.\n",
      "[NAME] ist die beste Lehrerin am [ORGANISATION].\n",
      "[NAME] ist doof. Sein Unterricht gefällt mir nicht\n",
      "Prof. Dr. Reuschenbach macht Lehre an der [ORGANISATION]\n",
      "Anonymisierte Daten gespeichert unter /Users/jan/anonymizer/anon.csv\n",
      "Anonymisierte Personen: 3\n",
      "Anonymisierte Orte: 2\n",
      "Anonymisierte Organisationen: 2\n"
     ]
    }
   ],
   "source": [
    "import spacy\n",
    "from spacy.pipeline import EntityRuler\n",
    "from spacy.matcher import Matcher\n",
    "from spacy.tokens import Span\n",
    "from spacy.language import Language\n",
    "import csv\n",
    "# Pfad zur Datei mit den Freitext-Antworten\n",
    "path_original = '/Users/jan/anonymizer/testdata_original.csv'\n",
    "# Pfad zur Datei, die mit den anonymisierten Freitext-Antworten erstellt werden soll (Ist die Datei vorhanden, so wird sie überschrieben!)\n",
    "path_anon = '/Users/jan/anonymizer/anon.csv'\n",
    "nlp = spacy.load('de_core_news_sm') # change to _lg when _lg downloaded\n",
    "def anonymize(text, count_per, count_org, count_loc):\n",
    "    doc = nlp(text)\n",
    "    for ent in doc.ents:\n",
    "        if ent.label_ == 'PER':\n",
    "            text = text.replace(ent.text, \"[NAME]\")\n",
    "            count_per += 1\n",
    "        elif ent.label_ == 'ORG':\n",
    "            text = text.replace(ent.text, \"[ORGANISATION]\")\n",
    "            count_org += 1\n",
    "        elif ent.label_ == 'LOC':\n",
    "            text = text.replace(ent.text, \"[ORT]\")\n",
    "            count_loc += 1\n",
    "        elif ent.label_ == 'GPE':\n",
    "            text = text.replace(ent.text, \"[ORT]\")\n",
    "            count_loc += 1\n",
    "    return text, count_per, count_org, count_loc\n",
    "rows = []\n",
    "with open(path_original, mode='r', newline='', encoding='utf-8-sig') as file:\n",
    "    csv_reader = csv.reader(file)\n",
    "    for row in csv_reader:\n",
    "        rows.append(row)\n",
    "        print(row)\n",
    "text_list = [row[0] for row in rows]\n",
    "count_per = 0\n",
    "count_org = 0\n",
    "count_loc = 0\n",
    "for i, text in enumerate(text_list):\n",
    "    #print(text)\n",
    "    anonymized_text, count_per, count_org, count_loc = anonymize(text, count_per, count_org, count_loc)\n",
    "    text_list[i] = anonymized_text\n",
    "    print(anonymized_text) #auskommentieren in production\n",
    "'''with open(path_anon, mode='w', newline='', encoding='utf-8-sig') as file:\n",
    "    writer = csv.writer(file)\n",
    "    for row, anonymized_text in zip(rows, text_list):\n",
    "        row[0] = anonymized_text\n",
    "        writer.writerow(row)'''\n",
    "print(f\"Anonymisierte Daten gespeichert unter {path_anon}\")\n",
    "print(f\"Anonymisierte Personen: {count_per}\")\n",
    "print(f\"Anonymisierte Orte: {count_loc}\")\n",
    "print(f\"Anonymisierte Organisationen: {count_org}\")"
   ]
  },
  {
   "cell_type": "code",
   "execution_count": null,
   "id": "bd7b8c60-e945-44a2-993c-8763b65f344e",
   "metadata": {},
   "outputs": [],
   "source": []
  }
 ],
 "metadata": {
  "kernelspec": {
   "display_name": "Python 3 (ipykernel)",
   "language": "python",
   "name": "python3"
  },
  "language_info": {
   "codemirror_mode": {
    "name": "ipython",
    "version": 3
   },
   "file_extension": ".py",
   "mimetype": "text/x-python",
   "name": "python",
   "nbconvert_exporter": "python",
   "pygments_lexer": "ipython3",
   "version": "3.12.2"
  }
 },
 "nbformat": 4,
 "nbformat_minor": 5
}
