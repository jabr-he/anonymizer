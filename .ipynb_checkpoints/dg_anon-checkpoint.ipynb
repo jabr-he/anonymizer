{
 "cells": [
  {
   "cell_type": "code",
   "execution_count": 9,
   "id": "44cbf4c6-27c5-475c-bb9c-ebc6bf9f9955",
   "metadata": {},
   "outputs": [
    {
     "name": "stdout",
     "output_type": "stream",
     "text": [
      "\u001b[1m Text vorher: \u001b[0m \"Daniel Großmanns Unterricht in München am Institut für Pflegeberufe ist gut.\"\n",
      "\u001b[1m Text nach automatischer Anonymisierung: \u001b[0m \"[NAME] Unterricht in [ORT] am [ORGANISATION] ist gut.\"\n"
     ]
    }
   ],
   "source": [
    "import spacy\n",
    "nlp = spacy.load('de_core_news_lg')\n",
    "def anonymize(text):\n",
    "    doc = nlp(text)\n",
    "    for ent in doc.ents:\n",
    "        if ent.label_ == 'PER':\n",
    "            text = text.replace(ent.text, \"[NAME]\")\n",
    "        if ent.label_ == 'ORG':\n",
    "            text = text.replace(ent.text, \"[ORGANISATION]\")\n",
    "        if ent.label_ == 'LOC':\n",
    "            text = text.replace(ent.text, \"[ORT]\")\n",
    "    return text\n",
    "text= \"Daniel Großmanns Unterricht in München am Institut für Pflegeberufe ist gut.\"\n",
    "print(f\"\\033[1m Text vorher: \\033[0m \\\"{text}\\\"\")\n",
    "print(f\"\\033[1m Text nach automatischer Anonymisierung: \\033[0m \\\"{anonymize(text)}\\\"\")"
   ]
  },
  {
   "cell_type": "code",
   "execution_count": null,
   "id": "ccae9e5b-2cc2-48ac-b628-4c8f0bf22909",
   "metadata": {},
   "outputs": [],
   "source": []
  }
 ],
 "metadata": {
  "kernelspec": {
   "display_name": "Python [conda env:base] *",
   "language": "python",
   "name": "conda-base-py"
  },
  "language_info": {
   "codemirror_mode": {
    "name": "ipython",
    "version": 3
   },
   "file_extension": ".py",
   "mimetype": "text/x-python",
   "name": "python",
   "nbconvert_exporter": "python",
   "pygments_lexer": "ipython3",
   "version": "3.12.2"
  }
 },
 "nbformat": 4,
 "nbformat_minor": 5
}
